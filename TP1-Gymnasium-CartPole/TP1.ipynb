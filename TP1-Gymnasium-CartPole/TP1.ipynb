{
 "cells": [
  {
   "cell_type": "code",
   "execution_count": 4,
   "metadata": {},
   "outputs": [
    {
     "name": "stdout",
     "output_type": "stream",
     "text": [
      "Espace d'actions : Discrete(2)\n",
      "Espace d'observations : Box([-4.8               -inf -0.41887903        -inf], [4.8               inf 0.41887903        inf], (4,), float32)\n"
     ]
    }
   ],
   "source": [
    "import gymnasium as gym\n",
    "\n",
    "env = gym.make(\"CartPole-v1\",render_mode=\"human\")\n",
    "\n",
    "print(\"Espace d'actions :\", env.action_space)\n",
    "print(\"Espace d'observations :\", env.observation_space)"
   ]
  },
  {
   "cell_type": "code",
   "execution_count": 7,
   "metadata": {},
   "outputs": [
    {
     "name": "stdout",
     "output_type": "stream",
     "text": [
      "Espace d'actions : Discrete(2)\n",
      "Espace d'observations : Box([-4.8               -inf -0.41887903        -inf], [4.8               inf 0.41887903        inf], (4,), float32)\n"
     ]
    }
   ],
   "source": [
    "#ex1\n",
    "import gymnasium as gym\n",
    "\n",
    "env = gym.make(\"CartPole-v1\",render_mode=\"human\")\n",
    "\n",
    "print(\"Espace d'actions :\", env.action_space)\n",
    "print(\"Espace d'observations :\", env.observation_space)\n",
    "\n",
    "observation, info = env.reset()\n",
    "\n",
    "for _ in range(100):\n",
    "    action = env.action_space.sample()  \n",
    "    observation, reward, terminated, truncated, info = env.step(action)  \n",
    "    \n",
    "    if terminated or truncated:\n",
    "        observation, info = env.reset() \n",
    "\n",
    "env.close()"
   ]
  },
  {
   "cell_type": "code",
   "execution_count": 11,
   "metadata": {},
   "outputs": [
    {
     "name": "stdout",
     "output_type": "stream",
     "text": [
      "Action : 0, Observation : [ 0.02526296 -0.15357439  0.0458895   0.35047296], Reward : 1.0\n"
     ]
    }
   ],
   "source": [
    "#ex2\n",
    "#qst1\n",
    "action = env.action_space.sample()\n",
    "observation, reward, terminated, truncated, info = env.step(action)\n",
    "print(f\"Action : {action}, Observation : {observation}, Reward : {reward}\")\n"
   ]
  },
  {
   "cell_type": "code",
   "execution_count": 12,
   "metadata": {},
   "outputs": [
    {
     "name": "stdout",
     "output_type": "stream",
     "text": [
      "Action : 0, Observation : [ 0.02219147 -0.3493179   0.05289896  0.6572659 ], Reward : 1.0\n",
      "Action : 1, Observation : [ 0.01520512 -0.15497066  0.06604428  0.38169786], Reward : 1.0\n",
      "Action : 0, Observation : [ 0.0121057  -0.3509652   0.07367823  0.69445163], Reward : 1.0\n",
      "Action : 0, Observation : [ 0.0050864  -0.5470276   0.08756727  1.0093892 ], Reward : 1.0\n",
      "Action : 0, Observation : [-0.00585415 -0.74320227  0.10775505  1.3282356 ], Reward : 1.0\n",
      "Action : 1, Observation : [-0.0207182  -0.5495925   0.13431977  1.0711241 ], Reward : 1.0\n",
      "Action : 1, Observation : [-0.03171005 -0.35647732  0.15574224  0.8234318 ], Reward : 1.0\n",
      "Action : 0, Observation : [-0.03883959 -0.5533477   0.17221087  1.1607665 ], Reward : 1.0\n",
      "Action : 0, Observation : [-0.04990655 -0.75024253  0.19542621  1.5021204 ], Reward : 1.0\n",
      "Action : 0, Observation : [-0.0649114  -0.9471257   0.22546862  1.8489138 ], Reward : 1.0\n"
     ]
    }
   ],
   "source": [
    "#qst3\n",
    "for _ in range(10):\n",
    "    action = env.action_space.sample()\n",
    "    observation, reward, terminated, truncated, info = env.step(action)\n",
    "    print(f\"Action : {action}, Observation : {observation}, Reward : {reward}\")\n"
   ]
  },
  {
   "cell_type": "code",
   "execution_count": null,
   "metadata": {},
   "outputs": [
    {
     "name": "stdout",
     "output_type": "stream",
     "text": [
      "Espace d'actions : Discrete(2)\n",
      "Espace d'observations : Box([-4.8               -inf -0.41887903        -inf], [4.8               inf 0.41887903        inf], (4,), float32)\n",
      "Observation initiale : [-0.02404043  0.00713087 -0.01986779  0.01750853]\n",
      "\n",
      "Nouvelle observation : [-0.02389781  0.20253202 -0.01951762 -0.2813761 ]\n",
      "Récompense : 1.0\n",
      "Terminé : False\n",
      "Tronqué : False\n",
      "Info : {}\n",
      "\n",
      "Nouvelle observation : [-0.01984717  0.39792687 -0.02514515 -0.58015037]\n",
      "Récompense : 1.0\n",
      "Terminé : False\n",
      "Tronqué : False\n",
      "Info : {}\n",
      "Veuillez entrer un nombre valide (0 ou 1).\n",
      "Veuillez entrer un nombre valide (0 ou 1).\n",
      "Veuillez entrer un nombre valide (0 ou 1).\n"
     ]
    }
   ],
   "source": [
    "#EX3\n",
    "import gymnasium as gym\n",
    "import time\n",
    "\n",
    "env = gym.make(\"CartPole-v1\")\n",
    "\n",
    "print(\"Espace d'actions :\", env.action_space)\n",
    "print(\"Espace d'observations :\", env.observation_space)\n",
    "\n",
    "observation, info = env.reset()\n",
    "print(\"Observation initiale :\", observation)\n",
    "\n",
    "total_steps = 0\n",
    "start_time = time.time()\n",
    "\n",
    "while True:\n",
    "    while True:\n",
    "        try:\n",
    "            action = int(input(\"Entrez une action (0 ou 1) : \"))\n",
    "            if action in [0, 1]:\n",
    "                break\n",
    "            else:\n",
    "                print(\"Veuillez entrer 0 ou 1.\")\n",
    "        except ValueError:\n",
    "            print(\"Veuillez entrer un nombre valide (0 ou 1).\")\n",
    "    \n",
    "    observation, reward, terminated, truncated, info = env.step(action)\n",
    "    total_steps += 1\n",
    "    \n",
    "    print(\"\\nNouvelle observation :\", observation)\n",
    "    print(\"Récompense :\", reward)\n",
    "    print(\"Terminé :\", terminated)\n",
    "    print(\"Tronqué :\", truncated)\n",
    "    print(\"Info :\", info)\n",
    "    \n",
    "    if terminated or truncated:\n",
    "        end_time = time.time()\n",
    "        duration = end_time - start_time\n",
    "        print(\"\\nEpisode terminé !\")\n",
    "        print(\"Durée totale de l'épisode : {:.2f} secondes\".format(duration))\n",
    "        print(\"Nombre total d'étapes :\", total_steps)\n",
    "        break\n",
    "\n",
    "env.close()"
   ]
  },
  {
   "cell_type": "code",
   "execution_count": null,
   "metadata": {},
   "outputs": [],
   "source": [
    "#EX4\n",
    "import gymnasium as gym\n",
    "import time\n",
    "import numpy as np\n",
    "\n",
    "def run_random_agent(num_episodes=10):\n",
    "    env = gym.make(\"CartPole-v1\")\n",
    "    episode_durations = []\n",
    "    episode_steps = []\n",
    "    \n",
    "    print(f\"\\nExécution de {num_episodes} épisodes avec des actions aléatoires...\")\n",
    "    \n",
    "    for episode in range(num_episodes):\n",
    "        observation, info = env.reset()\n",
    "        start_time = time.time()\n",
    "        steps = 0\n",
    "        \n",
    "        while True:\n",
    "            action = env.action_space.sample()  \n",
    "            observation, reward, terminated, truncated, info = env.step(action)\n",
    "            steps += 1\n",
    "            \n",
    "            if terminated or truncated:\n",
    "                duration = time.time() - start_time\n",
    "                episode_durations.append(duration)\n",
    "                episode_steps.append(steps)\n",
    "                print(f\"Épisode {episode + 1}: Durée = {duration:.2f}s, Steps = {steps}\")\n",
    "                break\n",
    "    \n",
    "    env.close()\n",
    "    \n",
    "    avg_duration = np.mean(episode_durations)\n",
    "    avg_steps = np.mean(episode_steps)\n",
    "    std_duration = np.std(episode_durations)\n",
    "    std_steps = np.std(episode_steps)\n",
    "    \n",
    "    print(\"\\nStatistiques:\")\n",
    "    print(f\"Durée moyenne: {avg_duration:.2f} ± {std_duration:.2f}s\")\n",
    "    print(f\"Steps moyens: {avg_steps:.1f} ± {std_steps:.1f}\")\n",
    "    \n",
    "    return avg_duration, avg_steps\n",
    "\n",
    "num_runs = 3  \n",
    "num_episodes = 10 \n",
    "\n",
    "results = []\n",
    "for run in range(num_runs):\n",
    "    print(f\"\\n=== Exécution {run + 1}/{num_runs} ===\")\n",
    "    avg_duration, avg_steps = run_random_agent(num_episodes)\n",
    "    results.append((avg_duration, avg_steps))\n",
    "\n",
    "print(\"\\n=== Comparaison entre exécutions ===\")\n",
    "for i, (duration, steps) in enumerate(results):\n",
    "    print(f\"Exécution {i + 1}: Durée moyenne = {duration:.2f}s, Steps moyens = {steps:.1f}\")\n",
    "\n",
    "avg_duration_all = np.mean([r[0] for r in results])\n",
    "avg_steps_all = np.mean([r[1] for r in results])\n",
    "print(f\"\\nMoyenne globale sur {num_runs} exécutions: Durée = {avg_duration_all:.2f}s, Steps = {avg_steps_all:.1f}\")\n"
   ]
  }
 ],
 "metadata": {
  "kernelspec": {
   "display_name": "Python 3",
   "language": "python",
   "name": "python3"
  },
  "language_info": {
   "codemirror_mode": {
    "name": "ipython",
    "version": 3
   },
   "file_extension": ".py",
   "mimetype": "text/x-python",
   "name": "python",
   "nbconvert_exporter": "python",
   "pygments_lexer": "ipython3",
   "version": "3.12.9"
  }
 },
 "nbformat": 4,
 "nbformat_minor": 2
}
